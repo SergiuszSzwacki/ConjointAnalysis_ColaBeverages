{
  "nbformat": 4,
  "nbformat_minor": 0,
  "metadata": {
    "colab": {
      "provenance": [],
      "authorship_tag": "ABX9TyORHCZC3pkQ3Lv+Ofd/NWLQ",
      "include_colab_link": true
    },
    "kernelspec": {
      "name": "python3",
      "display_name": "Python 3"
    },
    "language_info": {
      "name": "python"
    }
  },
  "cells": [
    {
      "cell_type": "markdown",
      "metadata": {
        "id": "view-in-github",
        "colab_type": "text"
      },
      "source": [
        "<a href=\"https://colab.research.google.com/github/WickedSero/ConjointAnalysis_ColaBeverages/blob/main/plan_ortogonalny_i_czastkowy.ipynb\" target=\"_parent\"><img src=\"https://colab.research.google.com/assets/colab-badge.svg\" alt=\"Open In Colab\"/></a>"
      ]
    },
    {
      "cell_type": "markdown",
      "source": [
        "### Wstęp:\n",
        "W Pythonie, analogicznie do kodu w R z wykorzystaniem biblioteki **AlgDesign**, można stworzyć cząstkowy układ czynnikowy za pomocą biblioteki **pyDOE2** oraz dodatkowych metod optymalizacji. Niestety, pyDOE2 nie posiada bezpośredniego odpowiednika funkcji `optFederov` z AlgDesign, w związku z tym został użyty `sklearn` (do optymalizacji) do redukcji profili.\n",
        "\n",
        "\n",
        "---\n",
        "\n",
        "\n",
        "### Wyjaśnienie kodu:\n",
        "1. **Definicja poziomów**:\n",
        "   - Liczba poziomów dla każdego atrybutu została określona następująco:\n",
        "     - Marka: 4 poziomy (Coca-Cola, Pepsi, Marki rzemieślnicze, Marka własna supermarketu).\n",
        "     - Zawartość cukru: 2 poziomy (Pełnocukrowa, Zero cukru).\n",
        "     - Rodzaj opakowania: 3 poziomy (Plastikowa butelka, Puszka aluminiowa, Szklana butelka).\n",
        "     - Smak: 3 poziomy (Klasyczny, Wanilia, Owocowy).\n",
        "\n",
        "2. **Generowanie pełnego układu czynnikowego**:\n",
        "   - Funkcja `fullfact()` tworzy pełny plan czynnikowy na podstawie liczby poziomów każdej zmiennej.\n",
        "\n",
        "3. **Redukcja do cząstkowego układu**:\n",
        "   - Wybieramy losowo 14 profili z pełnego układu za pomocą funkcji `np.random.choice()`. Ustawienie ziarna (`seed`) zapewnia powtarzalność wyników.\n",
        "\n",
        "4. **Mapowanie poziomów na rzeczywiste wartości**:\n",
        "   - Numeryczne wartości wygenerowane przez `fullfact()` są mapowane na ich rzeczywiste nazwy przy użyciu słownika `mappings`.\n",
        "\n",
        "5. **Skala oceny**:\n",
        "   - Respondenci mogą oceniać profile na skali od 1 (z pewnością nie wybrałabym/nie wybrałbym) do 10 (z pewnością wybrałabym/wybrałbym). Skala ta może być dodana jako kolumna w ankiecie.\n",
        "\n",
        "6. **Zapis wyników**:\n",
        "   - Wynikowy cząstkowy układ czynnikowy jest zapisany jako DataFrame i eksportowany do pliku CSV.\n",
        "\n",
        "\n",
        "---\n",
        "\n",
        "\n",
        "###Wynik:\n",
        "   - Kod wygeneruje pełny plan czynnikowy zawierający wszystkie kombinacje atrybutów i ich poziomów. Dla podanych danych będzie to $$4 \\times 2 \\times 3 \\times 3 = 72$$ kombinacji.\n",
        "   - Kod wygeneruje cząstkowy układ czynnikowy składający się z 14 profili, które są losowo wybrane z pełnego układu. Profile będą numerowane zgodnie z ich indeksami w pełnym układzie, co odpowiada podejściu stosowanemu w AlgDesign."
      ],
      "metadata": {
        "id": "Z-heYSPkt90h"
      }
    },
    {
      "cell_type": "markdown",
      "source": [
        "## Załaduj niezbędne biblioteki"
      ],
      "metadata": {
        "id": "hbAEw8ASbKQC"
      }
    },
    {
      "cell_type": "code",
      "source": [
        "from pyDOE2 import fullfact\n",
        "import pandas as pd\n",
        "import numpy as np\n",
        "from sklearn.utils import shuffle"
      ],
      "metadata": {
        "id": "1p97p41paCa-"
      },
      "execution_count": null,
      "outputs": []
    },
    {
      "cell_type": "markdown",
      "source": [
        "## Generowanie planu ortogonalnego"
      ],
      "metadata": {
        "id": "ulebE8nNTYfm"
      }
    },
    {
      "cell_type": "code",
      "source": [
        "# Definicja poziomów dla każdego atrybutu\n",
        "levels = [\n",
        "    4,  # Marka (Coca-Cola, Pepsi, Marki rzemieślnicze, Marka własna supermarketu)\n",
        "    2,  # Zawartość cukru (Pełnocukrowa, Zero cukru)\n",
        "    3,  # Rodzaj opakowania (Plastikowa butelka, Puszka aluminiowa, Szklana butelka)\n",
        "    3   # Smak (Klasyczny, Wanilia, Owocowy)\n",
        "]\n",
        "\n",
        "# Generowanie pełnego planu czynnikowego\n",
        "design = fullfact(levels)\n",
        "\n",
        "# Tworzenie DataFrame z odpowiednimi nazwami kolumn\n",
        "columns = ['Marka', 'Zawartość cukru', 'Rodzaj opakowania', 'Smak']\n",
        "df_design = pd.DataFrame(design, columns=columns)\n",
        "\n",
        "# Mapowanie poziomów na ich rzeczywiste wartości\n",
        "mappings = {\n",
        "    'Marka': ['Coca-Cola', 'Pepsi', 'Marki rzemieślnicze', 'Marka własna supermarketu'],\n",
        "    'Zawartość cukru': ['Pełnocukrowa', 'Zero cukru'],\n",
        "    'Rodzaj opakowania': ['Plastikowa butelka', 'Puszka aluminiowa', 'Szklana butelka'],\n",
        "    'Smak': ['Klasyczny', 'Wanilia', 'Owocowy']\n",
        "}\n",
        "\n",
        "for column in mappings:\n",
        "    df_design[column] = df_design[column].astype(int).map(lambda x: mappings[column][x])\n",
        "\n",
        "# Wyświetlenie wyniku\n",
        "print(df_design)\n",
        "\n",
        "# Zapis do pliku CSV (opcjonalne)\n",
        "df_design.to_csv('pelny_plan_czynnikowy.csv', index=False)"
      ],
      "metadata": {
        "id": "-ZOfKyq6eMky",
        "colab": {
          "base_uri": "https://localhost:8080/"
        },
        "outputId": "f39c6119-283e-43b2-e000-55dc9ad7e7e3"
      },
      "execution_count": null,
      "outputs": [
        {
          "output_type": "stream",
          "name": "stdout",
          "text": [
            "                        Marka Zawartość cukru   Rodzaj opakowania       Smak\n",
            "0                   Coca-Cola    Pełnocukrowa  Plastikowa butelka  Klasyczny\n",
            "1                       Pepsi    Pełnocukrowa  Plastikowa butelka  Klasyczny\n",
            "2         Marki rzemieślnicze    Pełnocukrowa  Plastikowa butelka  Klasyczny\n",
            "3   Marka własna supermarketu    Pełnocukrowa  Plastikowa butelka  Klasyczny\n",
            "4                   Coca-Cola      Zero cukru  Plastikowa butelka  Klasyczny\n",
            "..                        ...             ...                 ...        ...\n",
            "67  Marka własna supermarketu    Pełnocukrowa     Szklana butelka    Owocowy\n",
            "68                  Coca-Cola      Zero cukru     Szklana butelka    Owocowy\n",
            "69                      Pepsi      Zero cukru     Szklana butelka    Owocowy\n",
            "70        Marki rzemieślnicze      Zero cukru     Szklana butelka    Owocowy\n",
            "71  Marka własna supermarketu      Zero cukru     Szklana butelka    Owocowy\n",
            "\n",
            "[72 rows x 4 columns]\n"
          ]
        }
      ]
    },
    {
      "cell_type": "markdown",
      "source": [
        "### Generowanie cząstkowego planu składającego się z 14 profili."
      ],
      "metadata": {
        "id": "M6CD-OrZsCD4"
      }
    },
    {
      "cell_type": "code",
      "source": [
        "# Redukcja do cząstkowego układu czynnikowego (np. losowy wybór 14 profili)\n",
        "np.random.seed(123)  # Ustawienie ziarna dla powtarzalności wyników\n",
        "partial_indices = np.random.choice(df_design.index, size=14, replace=False)\n",
        "df_partial_design = df_design.iloc[partial_indices]\n",
        "\n",
        "# Numerowanie profili od 1\n",
        "df_partial_design.index = range(1, len(df_partial_design) + 1)\n",
        "\n",
        "# Wyświetlenie wyników\n",
        "print(df_partial_design)\n",
        "\n",
        "# Zapis do pliku CSV\n",
        "df_partial_design.to_csv(\"czastkowy_plan_czynnikowy.csv\", index_label=\"Numer profilu\")"
      ],
      "metadata": {
        "colab": {
          "base_uri": "https://localhost:8080/"
        },
        "id": "o4Am0N0VrCPZ",
        "outputId": "39c25013-652d-4465-d801-28e93b1bce93"
      },
      "execution_count": null,
      "outputs": [
        {
          "output_type": "stream",
          "name": "stdout",
          "text": [
            "                        Marka Zawartość cukru   Rodzaj opakowania       Smak\n",
            "1   Marka własna supermarketu      Zero cukru   Puszka aluminiowa    Owocowy\n",
            "2         Marki rzemieślnicze    Pełnocukrowa  Plastikowa butelka    Wanilia\n",
            "3   Marka własna supermarketu      Zero cukru     Szklana butelka    Owocowy\n",
            "4                       Pepsi    Pełnocukrowa     Szklana butelka    Owocowy\n",
            "5   Marka własna supermarketu      Zero cukru     Szklana butelka  Klasyczny\n",
            "6                   Coca-Cola    Pełnocukrowa   Puszka aluminiowa  Klasyczny\n",
            "7                   Coca-Cola      Zero cukru  Plastikowa butelka    Owocowy\n",
            "8                   Coca-Cola    Pełnocukrowa     Szklana butelka    Owocowy\n",
            "9                       Pepsi      Zero cukru  Plastikowa butelka    Wanilia\n",
            "10        Marki rzemieślnicze      Zero cukru  Plastikowa butelka    Owocowy\n",
            "11                      Pepsi    Pełnocukrowa   Puszka aluminiowa  Klasyczny\n",
            "12                  Coca-Cola      Zero cukru     Szklana butelka    Wanilia\n",
            "13                      Pepsi      Zero cukru   Puszka aluminiowa    Wanilia\n",
            "14                  Coca-Cola    Pełnocukrowa     Szklana butelka    Wanilia\n"
          ]
        }
      ]
    }
  ]
}